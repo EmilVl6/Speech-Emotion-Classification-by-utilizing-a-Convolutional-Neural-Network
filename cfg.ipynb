{
 "cells": [
  {
   "cell_type": "code",
   "execution_count": 11,
   "id": "5518546d",
   "metadata": {},
   "outputs": [],
   "source": [
    "import os\n",
    "\n",
    "sample_length = 2.5\n",
    "# rate / sample length for example 10 --> 1/10th of a second \n",
    "\n",
    "# A class which will help us al Values when required\n",
    "class Config:\n",
    "    def __init__(self, mode='conv', nfilt=26, nfeat=13, nfft=512, rate=16000):\n",
    "        self.mode = mode\n",
    "        self.nfilt = nfilt\n",
    "        self.nfeat = nfeat\n",
    "        self.nfft = nfft\n",
    "        self.rate = rate\n",
    "        self.step = int(rate/sample_length)\n",
    "        self.model_path = 'Models\\\\conv.model'\n"
   ]
  }
 ],
 "metadata": {
  "kernelspec": {
   "display_name": "Python 3 (ipykernel)",
   "language": "python",
   "name": "python3"
  },
  "language_info": {
   "codemirror_mode": {
    "name": "ipython",
    "version": 3
   },
   "file_extension": ".py",
   "mimetype": "text/x-python",
   "name": "python",
   "nbconvert_exporter": "python",
   "pygments_lexer": "ipython3",
   "version": "3.11.3"
  }
 },
 "nbformat": 4,
 "nbformat_minor": 5
}
